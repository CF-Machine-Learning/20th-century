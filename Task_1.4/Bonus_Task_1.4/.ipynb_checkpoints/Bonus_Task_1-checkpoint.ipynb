{
 "cells": [
  {
   "cell_type": "markdown",
   "id": "be865d99-e452-47d7-8000-ddc036cea762",
   "metadata": {},
   "source": [
    "**Task Description**\n",
    "\n",
    "For your twentieth-century analysis you need two sources of data—a countries lookup list and a text source. After executing the main task, you’ll already have the text source, but how about the list of countries? Try scraping it yourself. You can use this list that has already been collated (https://simple.m.wikipedia.org/wiki/List_of_countries) as a source.\n",
    "Your goal is to create a list of all countries similar to the characters’ list from Alice’s Adventures in Wonderland (Meaning - check the format of \"characters' list from Alice's Adventures in Wonderland available on Wikipedia and use that for creating the list of all countries).\n",
    "How to find the elements in this Wiki page?\n",
    "You have to look for the elements in the page— there are different ways to do this, depending on the HTML structure. Try using the selenium function driver.find_elements(By.TAG_NAME, …) where you’ll have to find what value you need to add after the TAG.NAME argument by inspecting the page.\n"
   ]
  },
  {
   "cell_type": "markdown",
   "id": "4ead920c-894c-4d35-aa5d-49c730286e9c",
   "metadata": {},
   "source": [
    "**Task Solution**"
   ]
  },
  {
   "cell_type": "code",
   "execution_count": 2,
   "id": "33e7c9b9-7443-4b81-85d8-9227ebaae2c8",
   "metadata": {},
   "outputs": [],
   "source": [
    "from selenium.webdriver import Chrome"
   ]
  },
  {
   "cell_type": "code",
   "execution_count": 3,
   "id": "49ed02bb-a30e-42a6-8e8a-a6e64549eb16",
   "metadata": {},
   "outputs": [
    {
     "name": "stdout",
     "output_type": "stream",
     "text": [
      "['This is a list of sovereign states. Disputed countries are listed at the bottom.', '  Afghanistan, Islamic Republic of -   Albania -   Algeria -   Andorra -   Angola -   Antigua and Barbuda -   Argentina -   Armenia -   Australia -   Austria -   Azerbaijan', '  Bahamas, The -   Bahrain -   Bangladesh -   Barbados -   Belarus -   Belgium -   Belize -   Benin -   Bhutan -   Bolivia -   Bosnia and Herzegovina -   Botswana -   Brazil -   Brunei -   Bulgaria -   Burkina Faso -   Burundi', \"  Cambodia -   Cameroon -   Canada -   Cape Verde -   Central African Republic -   Chad -   Chile -   China, People's Republic of -   Colombia -   Comoros -   Congo, Democratic Republic of the -   Congo, Republic of the -   Costa Rica -   Croatia -   Cuba -   Cyprus -   Czech Republic\", '  Denmark -   Djibouti -   Dominica -   Dominican Republic', '  East Timor -   Ecuador -   Egypt -   El Salvador -   Equatorial Guinea -   Eritrea -   Estonia -   Eswatini -   Ethiopia', '  Fiji -   Finland -   France', '  Gabon -   Gambia, The -   Georgia -   Germany -   Ghana -   Greece -   Grenada -   Guatemala -   Guinea -   Guinea-Bissau -   Guyana', '  Haiti -   Honduras -   Hungary', '  Iceland -   India -   Indonesia -   Iran -   Iraq -   Ireland -   Israel -   Italy -   Ivory Coast', '  Jamaica -   Japan -   Jordan', '  Kazakhstan -   Kenya -   Kiribati -   Korea, North -   Korea, South -   Kuwait -   Kyrgyzstan', '  Laos -   Latvia -   Lebanon -   Lesotho -   Liberia -   Libya -   Liechtenstein -   Lithuania -   Luxembourg', '  Madagascar -   Malawi -   Malaysia -   Maldives -   Mali -   Malta -   Marshall Islands -   Mauritania -   Mauritius -   Mexico -   Micronesia, Federated States of -   Moldova -   Monaco -   Mongolia -   Montenegro -   Morocco -   Mozambique -   Myanmar', '  Namibia -   Nauru -     Nepal -   Netherlands -   New Zealand -   Nicaragua -   Niger -   Nigeria -   North Macedonia -   Norway', '  Oman', '  Pakistan -   Palau -   Palestine -   Panama -   Papua New Guinea -   Paraguay -   Peru -   Philippines -   Poland -   Portugal', '  Qatar', '  Romania -   Russia -   Rwanda', '  Saint Kitts and Nevis -   Saint Lucia -   Saint Vincent and the Grenadines -   Samoa -   San Marino -   São Tomé and Príncipe -   Saudi Arabia -   Senegal -   Serbia -   Seychelles -   Sierra Leone -   Singapore -   Slovakia -   Slovenia -   Solomon Islands -   Somalia -   South Africa -   South Sudan -   Spain -   Sri Lanka -   Sudan -   Suriname -   Sweden -    Switzerland -   Syria', '  Tajikistan -   Tanzania -   Thailand -   Togo -   Tonga -   Trinidad and Tobago -   Tunisia -   Turkey -   Turkmenistan -   Tuvalu', '  Uganda -   Ukraine -   United Arab Emirates -   United Kingdom -   United States -   Uruguay -   Uzbekistan', '  Vanuatu -    Vatican City (Holy See) -   Venezuela -   Vietnam', '  Yemen', '  Zambia -   Zimbabwe', '  Abkhazia -   Artsakh -   Cook Islands -   Kosovo -   Niue -   Northern Cyprus -   Sahrawi Arab Democratic Republic -   Somaliland -   South Ossetia -   Taiwan -   Transnistria']\n"
     ]
    }
   ],
   "source": [
    "from selenium import webdriver\n",
    "from selenium.webdriver.common.by import By\n",
    "\n",
    "# Set up the Chrome driver\n",
    "driver=Chrome(\".\\\\chromedriver_win32\\\\chromedriver.exe\")\n",
    "\n",
    "# Navigate to the Wikipedia page\n",
    "driver.get('https://simple.m.wikipedia.org/wiki/List_of_countries')\n",
    "\n",
    "# Find the element containing the country names\n",
    "elements = driver.find_elements(By.TAG_NAME, 'p')\n",
    "\n",
    "# Initialize an empty list to store the country names\n",
    "country_names = []\n",
    "\n",
    "# Extract the country names from the elements\n",
    "for element in elements:\n",
    "    country_name = element.text\n",
    "    country_names.append(country_name)\n",
    "\n",
    "# Close the driver\n",
    "driver.quit()\n",
    "\n",
    "# Print the list of country names\n",
    "print(country_names)\n"
   ]
  },
  {
   "cell_type": "code",
   "execution_count": 4,
   "id": "d98869db-d4ae-48f2-ae82-6d2ecc9ed1f9",
   "metadata": {},
   "outputs": [
    {
     "name": "stdout",
     "output_type": "stream",
     "text": [
      "['This is a list of sovereign states. Disputed countries are listed at the bottom.', 'Afghanistan, Islamic Republic of', 'Albania', 'Algeria', 'Andorra', 'Angola', 'Antigua and Barbuda', 'Argentina', 'Armenia', 'Australia', 'Austria', 'Azerbaijan', 'Bahamas, The', 'Bahrain', 'Bangladesh', 'Barbados', 'Belarus', 'Belgium', 'Belize', 'Benin', 'Bhutan', 'Bolivia', 'Bosnia and Herzegovina', 'Botswana', 'Brazil', 'Brunei', 'Bulgaria', 'Burkina Faso', 'Burundi', 'Cambodia', 'Cameroon', 'Canada', 'Cape Verde', 'Central African Republic', 'Chad', 'Chile', \"China, People's Republic of\", 'Colombia', 'Comoros', 'Congo, Democratic Republic of the', 'Congo, Republic of the', 'Costa Rica', 'Croatia', 'Cuba', 'Cyprus', 'Czech Republic', 'Denmark', 'Djibouti', 'Dominica', 'Dominican Republic', 'East Timor', 'Ecuador', 'Egypt', 'El Salvador', 'Equatorial Guinea', 'Eritrea', 'Estonia', 'Eswatini', 'Ethiopia', 'Fiji', 'Finland', 'France', 'Gabon', 'Gambia, The', 'Georgia', 'Germany', 'Ghana', 'Greece', 'Grenada', 'Guatemala', 'Guinea', 'Guinea', 'Bissau', 'Guyana', 'Haiti', 'Honduras', 'Hungary', 'Iceland', 'India', 'Indonesia', 'Iran', 'Iraq', 'Ireland', 'Israel', 'Italy', 'Ivory Coast', 'Jamaica', 'Japan', 'Jordan', 'Kazakhstan', 'Kenya', 'Kiribati', 'Korea, North', 'Korea, South', 'Kuwait', 'Kyrgyzstan', 'Laos', 'Latvia', 'Lebanon', 'Lesotho', 'Liberia', 'Libya', 'Liechtenstein', 'Lithuania', 'Luxembourg', 'Madagascar', 'Malawi', 'Malaysia', 'Maldives', 'Mali', 'Malta', 'Marshall Islands', 'Mauritania', 'Mauritius', 'Mexico', 'Micronesia, Federated States of', 'Moldova', 'Monaco', 'Mongolia', 'Montenegro', 'Morocco', 'Mozambique', 'Myanmar', 'Namibia', 'Nauru', 'Nepal', 'Netherlands', 'New Zealand', 'Nicaragua', 'Niger', 'Nigeria', 'North Macedonia', 'Norway', 'Oman', 'Pakistan', 'Palau', 'Palestine', 'Panama', 'Papua New Guinea', 'Paraguay', 'Peru', 'Philippines', 'Poland', 'Portugal', 'Qatar', 'Romania', 'Russia', 'Rwanda', 'Saint Kitts and Nevis', 'Saint Lucia', 'Saint Vincent and the Grenadines', 'Samoa', 'San Marino', 'São Tomé and Príncipe', 'Saudi Arabia', 'Senegal', 'Serbia', 'Seychelles', 'Sierra Leone', 'Singapore', 'Slovakia', 'Slovenia', 'Solomon Islands', 'Somalia', 'South Africa', 'South Sudan', 'Spain', 'Sri Lanka', 'Sudan', 'Suriname', 'Sweden', 'Switzerland', 'Syria', 'Tajikistan', 'Tanzania', 'Thailand', 'Togo', 'Tonga', 'Trinidad and Tobago', 'Tunisia', 'Turkey', 'Turkmenistan', 'Tuvalu', 'Uganda', 'Ukraine', 'United Arab Emirates', 'United Kingdom', 'United States', 'Uruguay', 'Uzbekistan', 'Vanuatu', 'Vatican City (Holy See)', 'Venezuela', 'Vietnam', 'Yemen', 'Zambia', 'Zimbabwe', 'Abkhazia', 'Artsakh', 'Cook Islands', 'Kosovo', 'Niue', 'Northern Cyprus', 'Sahrawi Arab Democratic Republic', 'Somaliland', 'South Ossetia', 'Taiwan', 'Transnistria']\n"
     ]
    }
   ],
   "source": [
    "countries = []\n",
    "for item in country_names:\n",
    "    words = item.split('-')\n",
    "    for word in words:\n",
    "        country = word.strip()\n",
    "        if country:\n",
    "            countries.append(country)\n",
    "\n",
    "print(countries)"
   ]
  },
  {
   "cell_type": "code",
   "execution_count": 5,
   "id": "b9f605aa-38e2-4825-be1a-9b525b1c2da1",
   "metadata": {},
   "outputs": [
    {
     "name": "stdout",
     "output_type": "stream",
     "text": [
      "['Afghanistan, Islamic Republic of', 'Albania', 'Algeria', 'Andorra', 'Angola', 'Antigua and Barbuda', 'Argentina', 'Armenia', 'Australia', 'Austria', 'Azerbaijan', 'Bahamas, The', 'Bahrain', 'Bangladesh', 'Barbados', 'Belarus', 'Belgium', 'Belize', 'Benin', 'Bhutan', 'Bolivia', 'Bosnia and Herzegovina', 'Botswana', 'Brazil', 'Brunei', 'Bulgaria', 'Burkina Faso', 'Burundi', 'Cambodia', 'Cameroon', 'Canada', 'Cape Verde', 'Central African Republic', 'Chad', 'Chile', \"China, People's Republic of\", 'Colombia', 'Comoros', 'Congo, Democratic Republic of the', 'Congo, Republic of the', 'Costa Rica', 'Croatia', 'Cuba', 'Cyprus', 'Czech Republic', 'Denmark', 'Djibouti', 'Dominica', 'Dominican Republic', 'East Timor', 'Ecuador', 'Egypt', 'El Salvador', 'Equatorial Guinea', 'Eritrea', 'Estonia', 'Eswatini', 'Ethiopia', 'Fiji', 'Finland', 'France', 'Gabon', 'Gambia, The', 'Georgia', 'Germany', 'Ghana', 'Greece', 'Grenada', 'Guatemala', 'Guinea', 'Guinea', 'Bissau', 'Guyana', 'Haiti', 'Honduras', 'Hungary', 'Iceland', 'India', 'Indonesia', 'Iran', 'Iraq', 'Ireland', 'Israel', 'Italy', 'Ivory Coast', 'Jamaica', 'Japan', 'Jordan', 'Kazakhstan', 'Kenya', 'Kiribati', 'Korea, North', 'Korea, South', 'Kuwait', 'Kyrgyzstan', 'Laos', 'Latvia', 'Lebanon', 'Lesotho', 'Liberia', 'Libya', 'Liechtenstein', 'Lithuania', 'Luxembourg', 'Madagascar', 'Malawi', 'Malaysia', 'Maldives', 'Mali', 'Malta', 'Marshall Islands', 'Mauritania', 'Mauritius', 'Mexico', 'Micronesia, Federated States of', 'Moldova', 'Monaco', 'Mongolia', 'Montenegro', 'Morocco', 'Mozambique', 'Myanmar', 'Namibia', 'Nauru', 'Nepal', 'Netherlands', 'New Zealand', 'Nicaragua', 'Niger', 'Nigeria', 'North Macedonia', 'Norway', 'Oman', 'Pakistan', 'Palau', 'Palestine', 'Panama', 'Papua New Guinea', 'Paraguay', 'Peru', 'Philippines', 'Poland', 'Portugal', 'Qatar', 'Romania', 'Russia', 'Rwanda', 'Saint Kitts and Nevis', 'Saint Lucia', 'Saint Vincent and the Grenadines', 'Samoa', 'San Marino', 'São Tomé and Príncipe', 'Saudi Arabia', 'Senegal', 'Serbia', 'Seychelles', 'Sierra Leone', 'Singapore', 'Slovakia', 'Slovenia', 'Solomon Islands', 'Somalia', 'South Africa', 'South Sudan', 'Spain', 'Sri Lanka', 'Sudan', 'Suriname', 'Sweden', 'Switzerland', 'Syria', 'Tajikistan', 'Tanzania', 'Thailand', 'Togo', 'Tonga', 'Trinidad and Tobago', 'Tunisia', 'Turkey', 'Turkmenistan', 'Tuvalu', 'Uganda', 'Ukraine', 'United Arab Emirates', 'United Kingdom', 'United States', 'Uruguay', 'Uzbekistan', 'Vanuatu', 'Vatican City (Holy See)', 'Venezuela', 'Vietnam', 'Yemen', 'Zambia', 'Zimbabwe', 'Abkhazia', 'Artsakh', 'Cook Islands', 'Kosovo', 'Niue', 'Northern Cyprus', 'Sahrawi Arab Democratic Republic', 'Somaliland', 'South Ossetia', 'Taiwan', 'Transnistria']\n"
     ]
    }
   ],
   "source": [
    "# Delete element in list\n",
    "del countries[0]\n",
    "print(countries)"
   ]
  },
  {
   "cell_type": "code",
   "execution_count": 6,
   "id": "66ae9ead-6105-491d-9535-7fc5e24bed36",
   "metadata": {},
   "outputs": [],
   "source": [
    "# Open the file in write mode\n",
    "with open('Countries_list.txt', 'w') as file:\n",
    "    # Iterate over the list and write each element to a new line in the file\n",
    "    for item in countries:\n",
    "        file.write(item + '\\n')\n"
   ]
  },
  {
   "cell_type": "code",
   "execution_count": null,
   "id": "ed412b98-2121-4047-a7c0-7d38802747ca",
   "metadata": {},
   "outputs": [],
   "source": []
  }
 ],
 "metadata": {
  "kernelspec": {
   "display_name": "20th_century",
   "language": "python",
   "name": "20th_century"
  },
  "language_info": {
   "codemirror_mode": {
    "name": "ipython",
    "version": 3
   },
   "file_extension": ".py",
   "mimetype": "text/x-python",
   "name": "python",
   "nbconvert_exporter": "python",
   "pygments_lexer": "ipython3",
   "version": "3.10.11"
  }
 },
 "nbformat": 4,
 "nbformat_minor": 5
}
