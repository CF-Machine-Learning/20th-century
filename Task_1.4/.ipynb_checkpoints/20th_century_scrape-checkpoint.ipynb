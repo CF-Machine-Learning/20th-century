{
 "cells": [
  {
   "cell_type": "markdown",
   "id": "292e6e78-5af7-4710-a86f-8c354db99cba",
   "metadata": {
    "tags": []
   },
   "source": [
    "**Task Description**\n",
    "\n",
    "Activate your “20th_century” virtual environment in the conda terminal and launch JupyterLab (this is another way to use the “20th_century” kernel in JupyterLab)\n",
    "\n",
    "Navigate to the Key Events of the 20th Century page (https://en.wikipedia.org/wiki/Key_events_of_the_20th_century), and note down what elements you’ll focus on based on the project brief. For this particular task, you’ll download the entire page to scrape, so there’s no need to draw out the elements.\n",
    "\n",
    "Install the necessary libraries for this project using the requirements.txt file\n",
    "pandas==1.5.1\n",
    "requests==2.28.1\n",
    "beautifulsoup4==4.11.1\n",
    "selenium==3.141.0\n",
    "webdriver_manager==3.8.5\n",
    "matplotlib==3.6.2\n",
    "\n",
    "Put these in the txt file and install via pip install -r requirements.txt command.\n",
    "\n",
    "If you haven’t already, download ChromeDriver (https://chromedriver.chromium.org/) and install it in a new notebook in JupyterLab.\n",
    "\n",
    "Once you’re all set up, scrape the content of Key Events of the 20th Century page.\n",
    "\n",
    "Save the content you’ve scraped as a .txt file in your working directory.\n"
   ]
  },
  {
   "cell_type": "markdown",
   "id": "8ae50aad-b77d-4f29-8e26-793edad43b7f",
   "metadata": {},
   "source": [
    "**Task Solution**"
   ]
  },
  {
   "cell_type": "code",
   "execution_count": 1,
   "id": "cb616d94-1ebc-4b9d-8475-a5ab9bb16802",
   "metadata": {},
   "outputs": [],
   "source": [
    "from selenium.webdriver import Chrome\n",
    "driver=Chrome(\".\\\\chromedriver_win32\\\\chromedriver.exe\")\n",
    "driver.get(\"https://en.wikipedia.org/wiki/Key_events_of_the_20th_century\")\n",
    "text_data = driver.find_element_by_tag_name(\"body\").text\n",
    "#print(text_data)\n",
    "# Save the content as a .txt file\n",
    "with open('key_events_20th_century.txt', 'w', encoding=\"utf-8\") as file:\n",
    "    file.write(text_data)\n",
    "\n",
    "driver.quit()"
   ]
  },
  {
   "cell_type": "code",
   "execution_count": null,
   "id": "abc5ac8f-6d1b-41a1-b7e0-3b0fa1809da7",
   "metadata": {},
   "outputs": [],
   "source": []
  }
 ],
 "metadata": {
  "kernelspec": {
   "display_name": "20th_century",
   "language": "python",
   "name": "20th_century"
  },
  "language_info": {
   "codemirror_mode": {
    "name": "ipython",
    "version": 3
   },
   "file_extension": ".py",
   "mimetype": "text/x-python",
   "name": "python",
   "nbconvert_exporter": "python",
   "pygments_lexer": "ipython3",
   "version": "3.10.11"
  }
 },
 "nbformat": 4,
 "nbformat_minor": 5
}
