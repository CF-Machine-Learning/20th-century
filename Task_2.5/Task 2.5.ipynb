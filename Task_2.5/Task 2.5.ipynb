{
 "cells": [
  {
   "cell_type": "code",
   "execution_count": 1,
   "id": "f52b7903-91db-49d1-859e-d3e2121f299f",
   "metadata": {
    "tags": []
   },
   "outputs": [],
   "source": [
    "import pandas as pd\n",
    "import random\n",
    "from keplergl import KeplerGl\n",
    "import geopandas as gpd"
   ]
  },
  {
   "cell_type": "code",
   "execution_count": 2,
   "id": "7cbbf0b9-6f3a-4f8b-a6f8-5ab98fcd370e",
   "metadata": {
    "tags": []
   },
   "outputs": [],
   "source": [
    "columns_to_read = ['start_station_name','end_station_name',\"start_lng\",\"start_lng\",\"end_lat\",\"end_lng\"]  \n",
    "df1= pd.read_csv(\"Combined_DataWeatherFinal.csv\", usecols=columns_to_read)\n",
    "df1['new_column'] = 1\n",
    "aggregated_df = df1.groupby(['start_station_name', 'end_station_name']).size().reset_index(name='Trip Count')\n",
    "aggregated_df.columns = ['Starting Station', 'Ending Station', 'Trip Count',]"
   ]
  },
  {
   "cell_type": "markdown",
   "id": "84a49271-d07e-4cbe-a6de-ef5ca3073a54",
   "metadata": {},
   "source": [
    "**Task Solution**\n",
    "\n",
    "To optimize the code execution due to the large dataset and memory consumption issues, we made some changes to the approach. Initially, we were asked to initialize an instance in the Kepler.gl map and customize the map with arcs connecting the data points. However, due to the large dataset, reading the data was taking around 20 minutes and significantly using system RAM, almost causing it to crash. To address this, we performed an analysis using a subset of the data, reducing the number of data points to 'n'. By doing this, we were able to obtain satisfactory output results while efficiently handling a dataset of 120,000 data points. Additionally, we specifically selected 10,000 records from each month and concatenated the data to solve the problem more effectively.\n"
   ]
  },
  {
   "cell_type": "code",
   "execution_count": 3,
   "id": "154d05ee-af5c-4dfb-b305-7d326b76f420",
   "metadata": {
    "tags": []
   },
   "outputs": [
    {
     "data": {
      "text/html": [
       "<div>\n",
       "<style scoped>\n",
       "    .dataframe tbody tr th:only-of-type {\n",
       "        vertical-align: middle;\n",
       "    }\n",
       "\n",
       "    .dataframe tbody tr th {\n",
       "        vertical-align: top;\n",
       "    }\n",
       "\n",
       "    .dataframe thead th {\n",
       "        text-align: right;\n",
       "    }\n",
       "</style>\n",
       "<table border=\"1\" class=\"dataframe\">\n",
       "  <thead>\n",
       "    <tr style=\"text-align: right;\">\n",
       "      <th></th>\n",
       "      <th>started_at</th>\n",
       "      <th>start_station_name</th>\n",
       "      <th>end_station_name</th>\n",
       "      <th>start_lat</th>\n",
       "      <th>start_lng</th>\n",
       "      <th>end_lat</th>\n",
       "      <th>end_lng</th>\n",
       "    </tr>\n",
       "  </thead>\n",
       "  <tbody>\n",
       "    <tr>\n",
       "      <th>0</th>\n",
       "      <td>2022-01-27 14:21:01</td>\n",
       "      <td>5 Ave &amp; E 63 St</td>\n",
       "      <td>Cathedral Pkwy &amp; Broadway</td>\n",
       "      <td>40.766368</td>\n",
       "      <td>-73.971518</td>\n",
       "      <td>40.804213</td>\n",
       "      <td>-73.966991</td>\n",
       "    </tr>\n",
       "    <tr>\n",
       "      <th>1</th>\n",
       "      <td>2022-01-10 06:42:18</td>\n",
       "      <td>W 63 St &amp; Broadway</td>\n",
       "      <td>E 53 St &amp; Madison Ave</td>\n",
       "      <td>40.771639</td>\n",
       "      <td>-73.982614</td>\n",
       "      <td>40.759711</td>\n",
       "      <td>-73.974023</td>\n",
       "    </tr>\n",
       "  </tbody>\n",
       "</table>\n",
       "</div>"
      ],
      "text/plain": [
       "           started_at  start_station_name           end_station_name  \\\n",
       "0 2022-01-27 14:21:01     5 Ave & E 63 St  Cathedral Pkwy & Broadway   \n",
       "1 2022-01-10 06:42:18  W 63 St & Broadway      E 53 St & Madison Ave   \n",
       "\n",
       "   start_lat  start_lng    end_lat    end_lng  \n",
       "0  40.766368 -73.971518  40.804213 -73.966991  \n",
       "1  40.771639 -73.982614  40.759711 -73.974023  "
      ]
     },
     "execution_count": 3,
     "metadata": {},
     "output_type": "execute_result"
    }
   ],
   "source": [
    "columns_to_read = ['start_station_name','end_station_name','started_at',\"start_lat\",\"start_lng\",\"end_lat\",\"end_lng\"]  # Replace with the actual column names\n",
    "main_data= pd.read_csv(\"Combined_DataWeatherFinal.csv\", usecols=columns_to_read)\n",
    "main_data['started_at'] = pd.to_datetime(main_data['started_at'])\n",
    "\n",
    "selected_records = pd.DataFrame()\n",
    "\n",
    "grouped_data = main_data.groupby(main_data['started_at'].dt.month)\n",
    "\n",
    "def select_random_records(group):\n",
    "    return group.sample(n=10000, random_state=42)\n",
    "\n",
    "selected_records = grouped_data.apply(select_random_records)\n",
    "selected_records.reset_index(drop=True, inplace=True)\n",
    "selected_records.head(2)\n"
   ]
  },
  {
   "cell_type": "code",
   "execution_count": 4,
   "id": "b9252500-a5f5-432b-b5e8-f87d5e1276f3",
   "metadata": {
    "tags": []
   },
   "outputs": [],
   "source": [
    "columns_to_read = ['start_station_name','end_station_name',\"start_lat\",\"start_lng\",\"end_lat\",\"end_lng\"] \n",
    "df=gpd.read_file(\"Kepler_12mnth_data.csv\", usecols=columns_to_read)\n",
    "df[\"start_lat\"] = pd.to_numeric(df[\"start_lat\"])\n",
    "df[\"start_lng\"] = pd.to_numeric(df[\"start_lng\"])\n",
    "df[\"end_lat\"] = pd.to_numeric(df[\"end_lat\"])\n",
    "df[\"end_lng\"] = pd.to_numeric(df[\"end_lng\"])\n"
   ]
  },
  {
   "cell_type": "code",
   "execution_count": 5,
   "id": "ecba10a1-ecbc-4500-bcaa-3ec216cb57c8",
   "metadata": {
    "tags": []
   },
   "outputs": [
    {
     "name": "stdout",
     "output_type": "stream",
     "text": [
      "User Guide: https://docs.kepler.gl/docs/keplergl-jupyter\n"
     ]
    },
    {
     "name": "stderr",
     "output_type": "stream",
     "text": [
      "C:\\Users\\shahj\\anaconda3\\envs\\20th_century\\lib\\site-packages\\jupyter_client\\session.py:719: UserWarning: Message serialization failed with:\n",
      "Out of range float values are not JSON compliant\n",
      "Supporting this message is deprecated in jupyter-client 7, please make sure your message is JSON-compliant\n",
      "  content = self.pack(content)\n"
     ]
    },
    {
     "data": {
      "application/vnd.jupyter.widget-view+json": {
       "model_id": "78c614c8e41348e8a37bcc6d92a61dee",
       "version_major": 2,
       "version_minor": 0
      },
      "text/plain": [
       "KeplerGl(data={'City Bike Trip Data': {'index': [0, 1, 2, 3, 4, 5, 6, 7, 8, 9, 10, 11, 12, 13, 14, 15, 16, 17,…"
      ]
     },
     "metadata": {},
     "output_type": "display_data"
    }
   ],
   "source": [
    "# Initialize Kepler.gl map instance\n",
    "map_instance = KeplerGl(height=600,width=800)\n",
    "\n",
    "gdf=gpd.GeoDataFrame(df,geometry=gpd.points_from_xy(df.start_lng,df.start_lat))\n",
    "map_instance.add_data(data=gdf,name=\"City Bike Trip Data\")\n",
    "\n",
    "# Display the Kepler.gl map\n",
    "map_instance"
   ]
  },
  {
   "cell_type": "markdown",
   "id": "05d2665e-df55-4aa1-9b61-4fa363d2ce1c",
   "metadata": {},
   "source": [
    "**Task Solution**\n",
    "\n",
    "\n",
    "To visualize the bike trips between two points, representing the starting and ending locations, we utilized the \"arc\" layer option in the map settings. By specifying the start and end latitude and longitude coordinates, we created arcs that connect these points on the map. This allowed us to represent the flow of bike trips between different stations.\n",
    "\n",
    "Furthermore, we took advantage of the customization options, which enabled us to adjust the colors of the arcs according to our preference. Once the map was tailored to our liking, we saved the customized version, complete with the arcs connecting the points, as an HTML file for convenient sharing and viewing.\n",
    "\n",
    "**Task Solution**\n",
    "\n",
    "We have to find the common trips in New York City so we have used a kepler.gl map where we have used a filter option in whcih we given the top names of the station which has the highest number of trips"
   ]
  },
  {
   "cell_type": "code",
   "execution_count": 6,
   "id": "19f96a82-39c4-4fa1-961a-83e7c706cfb2",
   "metadata": {
    "tags": []
   },
   "outputs": [],
   "source": [
    "Commontrips = df.groupby(['start_station_name', 'end_station_name']).size().reset_index(name='Trip Count')\n",
    "Commontrips.columns = ['Starting Station', 'Ending Station', 'Trip Count',]\n",
    "Commontrips.head(2)\n",
    "commontripsorted_df = aggregated_df.sort_values(by='Trip Count', ascending=False)\n"
   ]
  },
  {
   "cell_type": "code",
   "execution_count": 8,
   "id": "0273016a-b42c-430c-9ac1-8c4a26bc1292",
   "metadata": {
    "tags": []
   },
   "outputs": [
    {
     "data": {
      "text/html": [
       "<div>\n",
       "<style scoped>\n",
       "    .dataframe tbody tr th:only-of-type {\n",
       "        vertical-align: middle;\n",
       "    }\n",
       "\n",
       "    .dataframe tbody tr th {\n",
       "        vertical-align: top;\n",
       "    }\n",
       "\n",
       "    .dataframe thead th {\n",
       "        text-align: right;\n",
       "    }\n",
       "</style>\n",
       "<table border=\"1\" class=\"dataframe\">\n",
       "  <thead>\n",
       "    <tr style=\"text-align: right;\">\n",
       "      <th></th>\n",
       "      <th>Starting Station</th>\n",
       "      <th>Ending Station</th>\n",
       "      <th>Trip Count</th>\n",
       "    </tr>\n",
       "  </thead>\n",
       "  <tbody>\n",
       "    <tr>\n",
       "      <th>294975</th>\n",
       "      <td>Central Park S &amp; 6 Ave</td>\n",
       "      <td>Central Park S &amp; 6 Ave</td>\n",
       "      <td>14071</td>\n",
       "    </tr>\n",
       "    <tr>\n",
       "      <th>147755</th>\n",
       "      <td>7 Ave &amp; Central Park South</td>\n",
       "      <td>7 Ave &amp; Central Park South</td>\n",
       "      <td>10342</td>\n",
       "    </tr>\n",
       "  </tbody>\n",
       "</table>\n",
       "</div>"
      ],
      "text/plain": [
       "                  Starting Station              Ending Station  Trip Count\n",
       "294975      Central Park S & 6 Ave      Central Park S & 6 Ave       14071\n",
       "147755  7 Ave & Central Park South  7 Ave & Central Park South       10342"
      ]
     },
     "execution_count": 8,
     "metadata": {},
     "output_type": "execute_result"
    }
   ],
   "source": [
    "# Retrieve the top 20 records\n",
    "commmontriptop_20_records = commontripsorted_df.head(20)\n",
    "commmontriptop_20_records.head(2)\n"
   ]
  },
  {
   "cell_type": "markdown",
   "id": "8cd5cd08-fa34-4978-b1ff-524b054bcbb2",
   "metadata": {},
   "source": [
    "**Inferences**\n",
    "\n",
    "We have identified the top 20 bike trips along with their trip counts, indicating the most commonly used routes, which are likely the busiest. Notably, a common theme among these routes is their proximity to Central Park, a prominent landmark and recreational area in Manhattan. Manhattan stands out among all the zones in New York City due to its plethora of tourist attractions, including Time Square, Central Park, Empire State Building, and Broadway. This suggests that the frequency of bike trips in this zone is notably high, likely driven by the influx of tourists visiting these iconic destinations."
   ]
  },
  {
   "cell_type": "code",
   "execution_count": null,
   "id": "4ba92c35-ee2c-4638-90d7-d7f96a0305b0",
   "metadata": {},
   "outputs": [],
   "source": []
  }
 ],
 "metadata": {
  "kernelspec": {
   "display_name": "20th_century",
   "language": "python",
   "name": "20th_century"
  },
  "language_info": {
   "codemirror_mode": {
    "name": "ipython",
    "version": 3
   },
   "file_extension": ".py",
   "mimetype": "text/x-python",
   "name": "python",
   "nbconvert_exporter": "python",
   "pygments_lexer": "ipython3",
   "version": "3.10.11"
  }
 },
 "nbformat": 4,
 "nbformat_minor": 5
}
