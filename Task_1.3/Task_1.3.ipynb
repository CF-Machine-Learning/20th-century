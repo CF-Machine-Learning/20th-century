{
 "cells": [
  {
   "cell_type": "markdown",
   "id": "c453dedf-5f14-4b29-96f0-9cd7655c774f",
   "metadata": {},
   "source": [
    "**Task Description**\n",
    "\n",
    "Create random data using the pd.DataFrame() function in your new notebook. The test dataframe should contain at least one numeric and one text column.\n",
    "\n",
    "Create a new column and execute a mathematical procedure (e.g., addition, subtraction, multiplication, division) in one of the existing columns using a lambda function.\n",
    "\n",
    "Create a flag column from the text column in your example dataframe using a lambda function (e.g., if you have a country column, you can add a new column region and, using the lambda function, assign its country to its corresponding region - THIS IS YOUR FLAG COLUMN). Recap note: A flag column is a type of data column used to indicate a certain condition or status. It’s typically a Boolean column with one of two values: true or false, but it could also be a label like in the “Alice” example."
   ]
  },
  {
   "cell_type": "markdown",
   "id": "f8df31fc-5d8a-4abc-989b-15cb0f2dbdd1",
   "metadata": {},
   "source": [
    "**Task Solution**"
   ]
  },
  {
   "cell_type": "code",
   "execution_count": 1,
   "id": "813d2e62-9688-4f0c-b879-c749a29f5d92",
   "metadata": {},
   "outputs": [
    {
     "name": "stdout",
     "output_type": "stream",
     "text": [
      "   Numbers  Country  Multiplication  Region_Status\n",
      "0       57      USA             114           True\n",
      "1       12   Canada              24           True\n",
      "2       24  Germany              48          False\n",
      "3       20   France              40          False\n",
      "4       59    Italy             118          False\n"
     ]
    }
   ],
   "source": [
    "import pandas as pd\n",
    "import numpy as np\n",
    "\n",
    "# Create a random DataFrame\n",
    "data = {\n",
    "    'Numbers': np.random.randint(1, 100, size=5),\n",
    "    'Country': ['USA', 'Canada', 'Germany', 'France', 'Italy'],\n",
    "}\n",
    "\n",
    "df = pd.DataFrame(data)\n",
    "\n",
    "# Create a new column using a lambda function\n",
    "df['Multiplication'] = df['Numbers'].apply(lambda x: x * 2)  # Multiply each value in the 'Numeric' column by 2\n",
    "\n",
    "# Create a flag column using a lambda function\n",
    "df['Region_Status'] = df['Country'].apply(lambda x: True if x in ['USA', 'Canada'] else False)\n",
    "\n",
    "# Print the updated dataframe\n",
    "print(df)"
   ]
  },
  {
   "cell_type": "markdown",
   "id": "7deceb28-ed9c-4911-b313-198a88859211",
   "metadata": {},
   "source": [
    "**Code Explaination**"
   ]
  },
  {
   "cell_type": "markdown",
   "id": "def49230-84f0-4c08-aaf9-c530c6fbadda",
   "metadata": {},
   "source": [
    "Imported the commonly used libraries such as Numpy and Pandas which are commonly used as numerical operations and Data Manipulation.\n",
    "\n",
    "Cretaed a dataframe name df with two columns 'Numbers' and 'country'\n",
    "\n",
    "A new column named 'Multiplication' is added to the DataFrame 'df'. The 'apply' method is used on the 'Numbers' column to apply a lambda function to each element in that column. The lambda function takes each value 'x' from the 'Numbers' column and multiplies it by 2. The result is stored in the 'Multiplication' column.\n",
    "\n",
    "Another new column named 'Region_Status' is added to the DataFrame 'df'. The 'apply' method is used on the 'Country' column to apply a lambda function to each element in that column. The lambda function checks if the country 'x' is either 'USA' or 'Canada', and if so, it returns True; otherwise, it returns False. The result is stored in the 'Region_Status' column.\n"
   ]
  },
  {
   "cell_type": "code",
   "execution_count": null,
   "id": "f993979c-7a08-4c46-ad08-aeba5160849f",
   "metadata": {},
   "outputs": [],
   "source": []
  },
  {
   "cell_type": "code",
   "execution_count": null,
   "id": "74ff259b-6138-492a-8308-c0bd51bc4d10",
   "metadata": {},
   "outputs": [],
   "source": []
  }
 ],
 "metadata": {
  "kernelspec": {
   "display_name": "20th_century",
   "language": "python",
   "name": "20th_century"
  },
  "language_info": {
   "codemirror_mode": {
    "name": "ipython",
    "version": 3
   },
   "file_extension": ".py",
   "mimetype": "text/x-python",
   "name": "python",
   "nbconvert_exporter": "python",
   "pygments_lexer": "ipython3",
   "version": "3.10.11"
  }
 },
 "nbformat": 4,
 "nbformat_minor": 5
}
