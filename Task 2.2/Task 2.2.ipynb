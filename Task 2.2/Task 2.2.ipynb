{
 "cells": [
  {
   "cell_type": "markdown",
   "id": "ff439692",
   "metadata": {
    "tags": []
   },
   "source": [
    "**Task Description**\n",
    "\n",
    "Download and store all files for New York’s CitiBike trips in 2022"
   ]
  },
  {
   "cell_type": "code",
   "execution_count": 4,
   "id": "6d3687db-155a-4ab3-8648-29e64001e2dd",
   "metadata": {
    "tags": []
   },
   "outputs": [
    {
     "name": "stdout",
     "output_type": "stream",
     "text": [
      "File 202201-citibike-tripdata.csv.zip downloaded successfully to ./data1/202201-citibike-tripdata.csv.zip.\n",
      "File 202201-citibike-tripdata.csv.zip extracted to ./data1/202201-citibike-tripdata.\n"
     ]
    }
   ],
   "source": [
    "import requests\n",
    "import zipfile\n",
    "import os\n",
    "import pandas as pd\n",
    "\n",
    "def download_file(url, save_path):\n",
    "    with requests.get(url, stream=True) as response:\n",
    "        response.raise_for_status()\n",
    "        with open(save_path, 'wb') as f:\n",
    "            for chunk in response.iter_content(chunk_size=8192):\n",
    "                f.write(chunk)\n",
    "                \n",
    "def unzip_file(zip_path, extract_folder):\n",
    "    with zipfile.ZipFile(zip_path, 'r') as zip_ref:\n",
    "        zip_ref.extractall(extract_folder)\n",
    "\n",
    "def main():\n",
    "    base_url = \"https://s3.amazonaws.com/tripdata/\"\n",
    "    # List of filenames for different months and years\n",
    "    filenames = [\n",
    "\"202201-citibike-tripdata.csv.zip\",\n",
    "        \"202202-citibike-tripdata.csv.zip\",\n",
    "        \"202203-citibike-tripdata.csv.zip\",\n",
    "        \"202204-citibike-tripdata.csv.zip\",\n",
    "        \"202205-citibike-tripdata.csv.zip\",\n",
    "        \"202206-citbike-tripdata.csv.zip\",\n",
    "        \"202207-citbike-tripdata.csv.zip\",\n",
    "        \"202208-citibike-tripdata.csv.zip\",\n",
    "        \"202209-citibike-tripdata.csv.zip\",\n",
    "        \"202210-citibike-tripdata.csv.zip\",\n",
    "        \"202211-citibike-tripdata.csv.zip\",\n",
    "        \"202212-citibike-tripdata.csv.zip\"\n",
    "    ]\n",
    "    save_folder = \"./data1/\"  # Specify the folder where you want to save the downloaded files.\n",
    "\n",
    "    for file_name in filenames:\n",
    "        full_url = base_url + file_name\n",
    "        save_path = os.path.join(save_folder, file_name)\n",
    "\n",
    "        download_file(full_url, save_path)\n",
    "        print(f\"File {file_name} downloaded successfully to {save_path}.\")\n",
    "\n",
    "        # Unzip the downloaded file and save the extracted contents to a new folder\n",
    "        extract_folder = os.path.join(save_folder, file_name.split(\".\")[0])  # Use the filename without the extension as the extraction folder\n",
    "        os.makedirs(extract_folder, exist_ok=True)  # Create the folder if it doesn't exist\n",
    "        unzip_file(save_path, extract_folder)\n",
    "        print(f\"File {file_name} extracted to {extract_folder}.\")\n",
    "\n",
    "if __name__ == \"__main__\":\n",
    "    main()\n"
   ]
  },
  {
   "cell_type": "markdown",
   "id": "537bcd25",
   "metadata": {},
   "source": [
    "**4.\tIn a new notebook, import all necessary libraries, read in your data, and join it. Hint: what’s the most effective way to import and join data in such a format?**"
   ]
  },
  {
   "cell_type": "code",
   "execution_count": 4,
   "id": "185d3fc6-708d-4c91-9ce4-d3657c81f421",
   "metadata": {
    "tags": []
   },
   "outputs": [
    {
     "name": "stdout",
     "output_type": "stream",
     "text": [
      "['202201-citibike-tripdata', '202202-citibike-tripdata', '202203-citibike-tripdata', '202204-citibike-tripdata', '202205-citibike-tripdata', '202206-citbike-tripdata', '202207-citbike-tripdata', '202208-citibike-tripdata', '202209-citibike-tripdata', '202210-citibike-tripdata', '202211-citibike-tripdata', '202212-citibike-tripdata']\n"
     ]
    }
   ],
   "source": [
    "main_directory = 'CitiBiketrip'\n",
    "\n",
    "folder_list = os.listdir(main_directory)\n",
    "print(folder_list)"
   ]
  },
  {
   "cell_type": "code",
   "execution_count": 20,
   "id": "3d572de1-7c1f-44ad-b8fe-73d630ae8804",
   "metadata": {
    "tags": []
   },
   "outputs": [
    {
     "name": "stdout",
     "output_type": "stream",
     "text": [
      "202201-citibike-tripdata.csv\n"
     ]
    },
    {
     "name": "stderr",
     "output_type": "stream",
     "text": [
      "C:\\Users\\shahj\\AppData\\Local\\Temp\\ipykernel_10076\\3795091160.py:9: DtypeWarning: Columns (5,7) have mixed types. Specify dtype option on import or set low_memory=False.\n",
      "  df = pd.read_csv(csv_file_path)\n"
     ]
    },
    {
     "name": "stdout",
     "output_type": "stream",
     "text": [
      "202202-citibike-tripdata.csv\n"
     ]
    },
    {
     "name": "stderr",
     "output_type": "stream",
     "text": [
      "C:\\Users\\shahj\\AppData\\Local\\Temp\\ipykernel_10076\\3795091160.py:9: DtypeWarning: Columns (5,7) have mixed types. Specify dtype option on import or set low_memory=False.\n",
      "  df = pd.read_csv(csv_file_path)\n"
     ]
    },
    {
     "name": "stdout",
     "output_type": "stream",
     "text": [
      "202203-citibike-tripdata.csv\n"
     ]
    },
    {
     "name": "stderr",
     "output_type": "stream",
     "text": [
      "C:\\Users\\shahj\\AppData\\Local\\Temp\\ipykernel_10076\\3795091160.py:9: DtypeWarning: Columns (5,7) have mixed types. Specify dtype option on import or set low_memory=False.\n",
      "  df = pd.read_csv(csv_file_path)\n"
     ]
    },
    {
     "name": "stdout",
     "output_type": "stream",
     "text": [
      "202204-citibike-tripdata.csv\n"
     ]
    },
    {
     "name": "stderr",
     "output_type": "stream",
     "text": [
      "C:\\Users\\shahj\\AppData\\Local\\Temp\\ipykernel_10076\\3795091160.py:9: DtypeWarning: Columns (5,7) have mixed types. Specify dtype option on import or set low_memory=False.\n",
      "  df = pd.read_csv(csv_file_path)\n"
     ]
    },
    {
     "name": "stdout",
     "output_type": "stream",
     "text": [
      "202205-citibike-tripdata.csv\n"
     ]
    },
    {
     "name": "stderr",
     "output_type": "stream",
     "text": [
      "C:\\Users\\shahj\\AppData\\Local\\Temp\\ipykernel_10076\\3795091160.py:9: DtypeWarning: Columns (5,7) have mixed types. Specify dtype option on import or set low_memory=False.\n",
      "  df = pd.read_csv(csv_file_path)\n"
     ]
    },
    {
     "name": "stdout",
     "output_type": "stream",
     "text": [
      "202206-citbike-tripdata.csv\n"
     ]
    },
    {
     "name": "stderr",
     "output_type": "stream",
     "text": [
      "C:\\Users\\shahj\\AppData\\Local\\Temp\\ipykernel_10076\\3795091160.py:9: DtypeWarning: Columns (5,7) have mixed types. Specify dtype option on import or set low_memory=False.\n",
      "  df = pd.read_csv(csv_file_path)\n"
     ]
    },
    {
     "name": "stdout",
     "output_type": "stream",
     "text": [
      "202207-citbike-tripdata.csv\n"
     ]
    },
    {
     "name": "stderr",
     "output_type": "stream",
     "text": [
      "C:\\Users\\shahj\\AppData\\Local\\Temp\\ipykernel_10076\\3795091160.py:9: DtypeWarning: Columns (5,7) have mixed types. Specify dtype option on import or set low_memory=False.\n",
      "  df = pd.read_csv(csv_file_path)\n"
     ]
    },
    {
     "name": "stdout",
     "output_type": "stream",
     "text": [
      "202208-citibike-tripdata.csv\n"
     ]
    },
    {
     "name": "stderr",
     "output_type": "stream",
     "text": [
      "C:\\Users\\shahj\\AppData\\Local\\Temp\\ipykernel_10076\\3795091160.py:9: DtypeWarning: Columns (5,7) have mixed types. Specify dtype option on import or set low_memory=False.\n",
      "  df = pd.read_csv(csv_file_path)\n"
     ]
    },
    {
     "name": "stdout",
     "output_type": "stream",
     "text": [
      "202209-citibike-tripdata.csv\n"
     ]
    },
    {
     "name": "stderr",
     "output_type": "stream",
     "text": [
      "C:\\Users\\shahj\\AppData\\Local\\Temp\\ipykernel_10076\\3795091160.py:9: DtypeWarning: Columns (5,7) have mixed types. Specify dtype option on import or set low_memory=False.\n",
      "  df = pd.read_csv(csv_file_path)\n"
     ]
    },
    {
     "name": "stdout",
     "output_type": "stream",
     "text": [
      "202210-citibike-tripdata.csv\n"
     ]
    },
    {
     "name": "stderr",
     "output_type": "stream",
     "text": [
      "C:\\Users\\shahj\\AppData\\Local\\Temp\\ipykernel_10076\\3795091160.py:9: DtypeWarning: Columns (5,7) have mixed types. Specify dtype option on import or set low_memory=False.\n",
      "  df = pd.read_csv(csv_file_path)\n"
     ]
    },
    {
     "name": "stdout",
     "output_type": "stream",
     "text": [
      "202211-citibike-tripdata.csv\n"
     ]
    },
    {
     "name": "stderr",
     "output_type": "stream",
     "text": [
      "C:\\Users\\shahj\\AppData\\Local\\Temp\\ipykernel_10076\\3795091160.py:9: DtypeWarning: Columns (5,7) have mixed types. Specify dtype option on import or set low_memory=False.\n",
      "  df = pd.read_csv(csv_file_path)\n"
     ]
    },
    {
     "name": "stdout",
     "output_type": "stream",
     "text": [
      "202212-citibike-tripdata.csv\n"
     ]
    },
    {
     "name": "stderr",
     "output_type": "stream",
     "text": [
      "C:\\Users\\shahj\\AppData\\Local\\Temp\\ipykernel_10076\\3795091160.py:9: DtypeWarning: Columns (5,7) have mixed types. Specify dtype option on import or set low_memory=False.\n",
      "  df = pd.read_csv(csv_file_path)\n"
     ]
    }
   ],
   "source": [
    "dataframes = []\n",
    "\n",
    "# Walk through the main directory and its subdirectories to find CSV files.\n",
    "for root, dirs, files in os.walk(main_directory):\n",
    "    dirs[:] = [d for d in dirs if not d.lower().endswith('_macosx')]\n",
    "    \n",
    "    # Skip processing if the current directory path contains any directory with name \"_macosx\"\n",
    "    if \"_macosx\" in root.lower():\n",
    "        continue\n",
    "        \n",
    "    for file in files:\n",
    "        #print(file)\n",
    "        if file.endswith('.csv'):\n",
    "            csv_file_path = os.path.join(root, file)\n",
    "            df = pd.read_csv(csv_file_path)\n",
    "            dataframes.append(df)\n",
    "\n",
    "# Combine all the DataFrames into a single DataFrame\n",
    "combined_data = pd.concat(dataframes, ignore_index=True)\n",
    "\n",
    "combined_data.to_csv('Combined_CitiBiketripData.csv', index=False)\n",
    "\n"
   ]
  },
  {
   "cell_type": "code",
   "execution_count": null,
   "id": "4da16791-b64d-439f-948e-76fcfdf8b7ff",
   "metadata": {
    "tags": []
   },
   "outputs": [],
   "source": [
    "\n",
    "data=pd.read_csv(\"Combined_CitiBiketripData.csv\")\n",
    "data.tail(20)"
   ]
  },
  {
   "cell_type": "code",
   "execution_count": 16,
   "id": "5a2e53dc-48ad-4d97-b57d-71d0fd89b68a",
   "metadata": {},
   "outputs": [
    {
     "data": {
      "text/plain": [
       "(469864, 34)"
      ]
     },
     "execution_count": 16,
     "metadata": {},
     "output_type": "execute_result"
    }
   ],
   "source": [
    "data.shape"
   ]
  },
  {
   "cell_type": "code",
   "execution_count": 9,
   "id": "f23352d6-0383-4884-b105-970357333bcd",
   "metadata": {
    "tags": []
   },
   "outputs": [
    {
     "data": {
      "text/plain": [
       "(30689921, 13)"
      ]
     },
     "execution_count": 9,
     "metadata": {},
     "output_type": "execute_result"
    }
   ],
   "source": [
    "data.shape"
   ]
  },
  {
   "cell_type": "markdown",
   "id": "f4881ced-ee54-4d2c-9ba3-41a9e33b5440",
   "metadata": {},
   "source": [
    "**Task Description**\n",
    "\n",
    "5.Leave a comment that describes how the code you wrote in point 4 works.\n",
    "\n",
    "**Comment**\n",
    "\n",
    "The script utilizes the Pandas library and the os module to combine multiple CSV files into a single DataFrame and then export the merged data to a new CSV file. Here's a breakdown of the code's functionality:\n",
    "\n",
    "Import necessary libraries:\n",
    "\n",
    "pandas and os libraries are used to handle data frame and to manage file operations \n",
    "\n",
    "A variable named main_directory is set to represent the folder path where the script will search for CSV files to combine which stores the names of all files and directories within the main_directory then Prepare a list for storing DataFrames named \"dataframes\"\n",
    "\n",
    "os.walk will traverse through the main and its sub directories to find a file ending with \".csv\" extension whose content are read and saved in a dataframe using pandas\n",
    "Now will concatenates all dataframe in one single dataframe by using pd.concat () function and used a parameter ignore_index=True ensures a continuous index in the merged DataFrame."
   ]
  },
  {
   "cell_type": "markdown",
   "id": "e00039ba",
   "metadata": {},
   "source": [
    "**Merge the weather data with the New York CitiBike data set and export it to a CSV file.**"
   ]
  },
  {
   "cell_type": "markdown",
   "id": "df6ef660",
   "metadata": {},
   "source": [
    "**Approach**\n",
    "\n",
    "Due to the large size of the datasets, we will adopt a two-step approach to merge the Citibike trip data with weather data. First, we will merge the Citibike trip data with weather data on a monthly basis. This means that we will combine the trip data and weather data for each month separately. Then, in the second step, we will merge all the monthly data to create the final merged dataset."
   ]
  },
  {
   "cell_type": "code",
   "execution_count": null,
   "id": "6e2f4b3c",
   "metadata": {},
   "outputs": [],
   "source": [
    "# Define the directory path where all the 12 months data are located\n",
    "data_directory = \".\\\\CitiBiketrip\\\\\"\n",
    "\n",
    "# List of months \n",
    "months = ['202201', '202202', '202203', '202204', '202205', '202206', '202207', '202208', '202209', '202210', '202211', '202212']\n",
    "\n",
    "# Loop through each month's data, merge with weather data, and save them separately\n",
    "for month in months:\n",
    "    # Load Citibike trip data for the current month\n",
    "    df1 = pd.read_csv(data_directory + month + '-citibike-tripdata.csv')\n",
    "    \n",
    "    # Load weather data for the current month\n",
    "    df2 = pd.read_csv('weather_data.csv')\n",
    "    columns_to_drop = [7, 8, 9, 11, 13, 15, 17, 19, 21, 23, 25, 27, 29, 31, 32, 33, 34, 35, 36, 37, 38, 39, 40, 41, 43, 44, 45]\n",
    "    df2 = weather_data.drop(weather_data.columns[columns_to_drop], axis=1)\n",
    "\n",
    "    # Convert the 'Date' column to a pandas datetime type for correct merging\n",
    "    df1['Date'] = pd.to_datetime(df1['started_at']).dt.date\n",
    "    df2['Date'] = pd.to_datetime(df2['DATE']).dt.date\n",
    "\n",
    "    # Merge the dataframes based on the 'Date' column using an inner join\n",
    "    merged_df = pd.merge(df1, df2, on='Date', how='inner')\n",
    "\n",
    "    # Save the merged dataframe to a CSV file for the current month\n",
    "    merged_df.to_csv(data_directory + month + '-merged_data.csv', index=False)\n"
   ]
  },
  {
   "cell_type": "code",
   "execution_count": 43,
   "id": "e9853b93-b85d-431d-97c2-2ec44c29d29a",
   "metadata": {},
   "outputs": [
    {
     "data": {
      "text/plain": [
       "(1649652, 33)"
      ]
     },
     "execution_count": 43,
     "metadata": {},
     "output_type": "execute_result"
    }
   ],
   "source": [
    "merged_df.shape"
   ]
  },
  {
   "cell_type": "code",
   "execution_count": 44,
   "id": "6da4efc9-4e84-4c08-b91b-b7003839f9ac",
   "metadata": {},
   "outputs": [
    {
     "data": {
      "text/plain": [
       "(1649652, 14)"
      ]
     },
     "execution_count": 44,
     "metadata": {},
     "output_type": "execute_result"
    }
   ],
   "source": [
    "df1.shape"
   ]
  },
  {
   "cell_type": "code",
   "execution_count": 10,
   "id": "86c4af4b-7b8d-4726-b597-48c6986018c2",
   "metadata": {},
   "outputs": [
    {
     "data": {
      "text/html": [
       "<div>\n",
       "<style scoped>\n",
       "    .dataframe tbody tr th:only-of-type {\n",
       "        vertical-align: middle;\n",
       "    }\n",
       "\n",
       "    .dataframe tbody tr th {\n",
       "        vertical-align: top;\n",
       "    }\n",
       "\n",
       "    .dataframe thead th {\n",
       "        text-align: right;\n",
       "    }\n",
       "</style>\n",
       "<table border=\"1\" class=\"dataframe\">\n",
       "  <thead>\n",
       "    <tr style=\"text-align: right;\">\n",
       "      <th></th>\n",
       "      <th>ride_id</th>\n",
       "      <th>rideable_type</th>\n",
       "      <th>started_at</th>\n",
       "      <th>ended_at</th>\n",
       "      <th>start_station_name</th>\n",
       "      <th>start_station_id</th>\n",
       "      <th>end_station_name</th>\n",
       "      <th>end_station_id</th>\n",
       "      <th>start_lat</th>\n",
       "      <th>start_lng</th>\n",
       "      <th>...</th>\n",
       "      <th>SNWD</th>\n",
       "      <th>TAVG</th>\n",
       "      <th>TMAX</th>\n",
       "      <th>TMIN</th>\n",
       "      <th>WDF2</th>\n",
       "      <th>WDF5</th>\n",
       "      <th>WSF2</th>\n",
       "      <th>WSF5</th>\n",
       "      <th>WT01</th>\n",
       "      <th>WT08</th>\n",
       "    </tr>\n",
       "  </thead>\n",
       "  <tbody>\n",
       "    <tr>\n",
       "      <th>0</th>\n",
       "      <td>55262E4365A955A2</td>\n",
       "      <td>classic_bike</td>\n",
       "      <td>2022-01-18 08:23:52</td>\n",
       "      <td>2022-01-18 08:28:18</td>\n",
       "      <td>Boerum Pl\\t&amp; Pacific St</td>\n",
       "      <td>4488.09</td>\n",
       "      <td>Clinton St &amp; Joralemon St</td>\n",
       "      <td>4605.04</td>\n",
       "      <td>40.688489</td>\n",
       "      <td>-73.991160</td>\n",
       "      <td>...</td>\n",
       "      <td>0.0</td>\n",
       "      <td>1.8</td>\n",
       "      <td>3.3</td>\n",
       "      <td>-0.5</td>\n",
       "      <td>310</td>\n",
       "      <td>300</td>\n",
       "      <td>14.8</td>\n",
       "      <td>19.2</td>\n",
       "      <td>NaN</td>\n",
       "      <td>NaN</td>\n",
       "    </tr>\n",
       "    <tr>\n",
       "      <th>1</th>\n",
       "      <td>75EAB4C9619AB463</td>\n",
       "      <td>classic_bike</td>\n",
       "      <td>2022-01-18 16:45:52</td>\n",
       "      <td>2022-01-18 16:56:03</td>\n",
       "      <td>W 49 St &amp; 8 Ave</td>\n",
       "      <td>6747.06</td>\n",
       "      <td>Amsterdam Ave &amp; W 73 St</td>\n",
       "      <td>7260.09</td>\n",
       "      <td>40.762272</td>\n",
       "      <td>-73.987882</td>\n",
       "      <td>...</td>\n",
       "      <td>0.0</td>\n",
       "      <td>1.8</td>\n",
       "      <td>3.3</td>\n",
       "      <td>-0.5</td>\n",
       "      <td>310</td>\n",
       "      <td>300</td>\n",
       "      <td>14.8</td>\n",
       "      <td>19.2</td>\n",
       "      <td>NaN</td>\n",
       "      <td>NaN</td>\n",
       "    </tr>\n",
       "    <tr>\n",
       "      <th>2</th>\n",
       "      <td>582C4FB96E010416</td>\n",
       "      <td>classic_bike</td>\n",
       "      <td>2022-01-18 08:45:24</td>\n",
       "      <td>2022-01-18 08:54:11</td>\n",
       "      <td>E 88 St &amp; 1 Ave</td>\n",
       "      <td>7235.13</td>\n",
       "      <td>2 Ave &amp; E 72 St</td>\n",
       "      <td>6925.09</td>\n",
       "      <td>40.778301</td>\n",
       "      <td>-73.948813</td>\n",
       "      <td>...</td>\n",
       "      <td>0.0</td>\n",
       "      <td>1.8</td>\n",
       "      <td>3.3</td>\n",
       "      <td>-0.5</td>\n",
       "      <td>310</td>\n",
       "      <td>300</td>\n",
       "      <td>14.8</td>\n",
       "      <td>19.2</td>\n",
       "      <td>NaN</td>\n",
       "      <td>NaN</td>\n",
       "    </tr>\n",
       "    <tr>\n",
       "      <th>3</th>\n",
       "      <td>4FAA081EE6A9B319</td>\n",
       "      <td>electric_bike</td>\n",
       "      <td>2022-01-18 18:12:01</td>\n",
       "      <td>2022-01-18 18:17:15</td>\n",
       "      <td>Clermont Ave &amp; Lafayette Ave</td>\n",
       "      <td>4461.01</td>\n",
       "      <td>Emerson Pl &amp; Myrtle Ave</td>\n",
       "      <td>4683.02</td>\n",
       "      <td>40.687645</td>\n",
       "      <td>-73.969689</td>\n",
       "      <td>...</td>\n",
       "      <td>0.0</td>\n",
       "      <td>1.8</td>\n",
       "      <td>3.3</td>\n",
       "      <td>-0.5</td>\n",
       "      <td>310</td>\n",
       "      <td>300</td>\n",
       "      <td>14.8</td>\n",
       "      <td>19.2</td>\n",
       "      <td>NaN</td>\n",
       "      <td>NaN</td>\n",
       "    </tr>\n",
       "    <tr>\n",
       "      <th>4</th>\n",
       "      <td>AA6CE6206341D731</td>\n",
       "      <td>electric_bike</td>\n",
       "      <td>2022-01-18 13:14:24</td>\n",
       "      <td>2022-01-18 13:25:50</td>\n",
       "      <td>Court St &amp; State St</td>\n",
       "      <td>4488.08</td>\n",
       "      <td>Emerson Pl &amp; Myrtle Ave</td>\n",
       "      <td>4683.02</td>\n",
       "      <td>40.690238</td>\n",
       "      <td>-73.992031</td>\n",
       "      <td>...</td>\n",
       "      <td>0.0</td>\n",
       "      <td>1.8</td>\n",
       "      <td>3.3</td>\n",
       "      <td>-0.5</td>\n",
       "      <td>310</td>\n",
       "      <td>300</td>\n",
       "      <td>14.8</td>\n",
       "      <td>19.2</td>\n",
       "      <td>NaN</td>\n",
       "      <td>NaN</td>\n",
       "    </tr>\n",
       "    <tr>\n",
       "      <th>5</th>\n",
       "      <td>0B215E18DCAB5559</td>\n",
       "      <td>electric_bike</td>\n",
       "      <td>2022-01-18 10:48:27</td>\n",
       "      <td>2022-01-18 10:53:31</td>\n",
       "      <td>Crescent St &amp; 35 Ave</td>\n",
       "      <td>6688.01</td>\n",
       "      <td>Queens Plaza North &amp; Crescent St</td>\n",
       "      <td>6429.01</td>\n",
       "      <td>40.759628</td>\n",
       "      <td>-73.932146</td>\n",
       "      <td>...</td>\n",
       "      <td>0.0</td>\n",
       "      <td>1.8</td>\n",
       "      <td>3.3</td>\n",
       "      <td>-0.5</td>\n",
       "      <td>310</td>\n",
       "      <td>300</td>\n",
       "      <td>14.8</td>\n",
       "      <td>19.2</td>\n",
       "      <td>NaN</td>\n",
       "      <td>NaN</td>\n",
       "    </tr>\n",
       "    <tr>\n",
       "      <th>6</th>\n",
       "      <td>C3C9A7074153C0FE</td>\n",
       "      <td>classic_bike</td>\n",
       "      <td>2022-01-18 16:54:44</td>\n",
       "      <td>2022-01-18 16:57:08</td>\n",
       "      <td>31 Ave &amp; 30 St</td>\n",
       "      <td>6857.09</td>\n",
       "      <td>31 St &amp; Broadway</td>\n",
       "      <td>6789.04</td>\n",
       "      <td>40.764700</td>\n",
       "      <td>-73.924031</td>\n",
       "      <td>...</td>\n",
       "      <td>0.0</td>\n",
       "      <td>1.8</td>\n",
       "      <td>3.3</td>\n",
       "      <td>-0.5</td>\n",
       "      <td>310</td>\n",
       "      <td>300</td>\n",
       "      <td>14.8</td>\n",
       "      <td>19.2</td>\n",
       "      <td>NaN</td>\n",
       "      <td>NaN</td>\n",
       "    </tr>\n",
       "    <tr>\n",
       "      <th>7</th>\n",
       "      <td>A09D2C3867EA5E5D</td>\n",
       "      <td>electric_bike</td>\n",
       "      <td>2022-01-18 08:40:28</td>\n",
       "      <td>2022-01-18 08:57:04</td>\n",
       "      <td>W 22 St &amp; 10 Ave</td>\n",
       "      <td>6306.06</td>\n",
       "      <td>John St &amp; William St</td>\n",
       "      <td>5065.04</td>\n",
       "      <td>40.746920</td>\n",
       "      <td>-74.004519</td>\n",
       "      <td>...</td>\n",
       "      <td>0.0</td>\n",
       "      <td>1.8</td>\n",
       "      <td>3.3</td>\n",
       "      <td>-0.5</td>\n",
       "      <td>310</td>\n",
       "      <td>300</td>\n",
       "      <td>14.8</td>\n",
       "      <td>19.2</td>\n",
       "      <td>NaN</td>\n",
       "      <td>NaN</td>\n",
       "    </tr>\n",
       "    <tr>\n",
       "      <th>8</th>\n",
       "      <td>A67290B3D88CFD27</td>\n",
       "      <td>classic_bike</td>\n",
       "      <td>2022-01-18 08:06:28</td>\n",
       "      <td>2022-01-18 08:10:48</td>\n",
       "      <td>34 St &amp; 35 Ave</td>\n",
       "      <td>6605.08</td>\n",
       "      <td>31 St &amp; Broadway</td>\n",
       "      <td>6789.04</td>\n",
       "      <td>40.756933</td>\n",
       "      <td>-73.926223</td>\n",
       "      <td>...</td>\n",
       "      <td>0.0</td>\n",
       "      <td>1.8</td>\n",
       "      <td>3.3</td>\n",
       "      <td>-0.5</td>\n",
       "      <td>310</td>\n",
       "      <td>300</td>\n",
       "      <td>14.8</td>\n",
       "      <td>19.2</td>\n",
       "      <td>NaN</td>\n",
       "      <td>NaN</td>\n",
       "    </tr>\n",
       "    <tr>\n",
       "      <th>9</th>\n",
       "      <td>77FDAF01894C026F</td>\n",
       "      <td>classic_bike</td>\n",
       "      <td>2022-01-18 21:26:51</td>\n",
       "      <td>2022-01-18 21:28:50</td>\n",
       "      <td>Smith St &amp; 9 St</td>\n",
       "      <td>4077.04</td>\n",
       "      <td>10 St &amp; 2 Ave</td>\n",
       "      <td>3922.02</td>\n",
       "      <td>40.674696</td>\n",
       "      <td>-73.997858</td>\n",
       "      <td>...</td>\n",
       "      <td>0.0</td>\n",
       "      <td>1.8</td>\n",
       "      <td>3.3</td>\n",
       "      <td>-0.5</td>\n",
       "      <td>310</td>\n",
       "      <td>300</td>\n",
       "      <td>14.8</td>\n",
       "      <td>19.2</td>\n",
       "      <td>NaN</td>\n",
       "      <td>NaN</td>\n",
       "    </tr>\n",
       "    <tr>\n",
       "      <th>10</th>\n",
       "      <td>D88D7C394FD93D69</td>\n",
       "      <td>classic_bike</td>\n",
       "      <td>2022-01-18 14:06:14</td>\n",
       "      <td>2022-01-18 14:12:44</td>\n",
       "      <td>Smith St &amp; 9 St</td>\n",
       "      <td>4077.04</td>\n",
       "      <td>10 St &amp; 5 Ave</td>\n",
       "      <td>3842.08</td>\n",
       "      <td>40.674696</td>\n",
       "      <td>-73.997858</td>\n",
       "      <td>...</td>\n",
       "      <td>0.0</td>\n",
       "      <td>1.8</td>\n",
       "      <td>3.3</td>\n",
       "      <td>-0.5</td>\n",
       "      <td>310</td>\n",
       "      <td>300</td>\n",
       "      <td>14.8</td>\n",
       "      <td>19.2</td>\n",
       "      <td>NaN</td>\n",
       "      <td>NaN</td>\n",
       "    </tr>\n",
       "    <tr>\n",
       "      <th>11</th>\n",
       "      <td>3479868240791A4C</td>\n",
       "      <td>electric_bike</td>\n",
       "      <td>2022-01-18 06:37:50</td>\n",
       "      <td>2022-01-18 06:50:39</td>\n",
       "      <td>21 Ave &amp; Crescent St</td>\n",
       "      <td>7284.01</td>\n",
       "      <td>Queens Plaza North &amp; Crescent St</td>\n",
       "      <td>6429.01</td>\n",
       "      <td>40.780478</td>\n",
       "      <td>-73.912212</td>\n",
       "      <td>...</td>\n",
       "      <td>0.0</td>\n",
       "      <td>1.8</td>\n",
       "      <td>3.3</td>\n",
       "      <td>-0.5</td>\n",
       "      <td>310</td>\n",
       "      <td>300</td>\n",
       "      <td>14.8</td>\n",
       "      <td>19.2</td>\n",
       "      <td>NaN</td>\n",
       "      <td>NaN</td>\n",
       "    </tr>\n",
       "    <tr>\n",
       "      <th>12</th>\n",
       "      <td>25320E10EB263516</td>\n",
       "      <td>classic_bike</td>\n",
       "      <td>2022-01-18 09:46:45</td>\n",
       "      <td>2022-01-18 09:48:46</td>\n",
       "      <td>W 47 St &amp; 10 Ave</td>\n",
       "      <td>6824.07</td>\n",
       "      <td>W 44 St &amp; 11 Ave</td>\n",
       "      <td>6756.05</td>\n",
       "      <td>40.762699</td>\n",
       "      <td>-73.993012</td>\n",
       "      <td>...</td>\n",
       "      <td>0.0</td>\n",
       "      <td>1.8</td>\n",
       "      <td>3.3</td>\n",
       "      <td>-0.5</td>\n",
       "      <td>310</td>\n",
       "      <td>300</td>\n",
       "      <td>14.8</td>\n",
       "      <td>19.2</td>\n",
       "      <td>NaN</td>\n",
       "      <td>NaN</td>\n",
       "    </tr>\n",
       "    <tr>\n",
       "      <th>13</th>\n",
       "      <td>6DC420CD823EE38B</td>\n",
       "      <td>classic_bike</td>\n",
       "      <td>2022-01-18 14:42:36</td>\n",
       "      <td>2022-01-18 14:44:37</td>\n",
       "      <td>21 St &amp; Queens Plaza North</td>\n",
       "      <td>6471.02</td>\n",
       "      <td>Queens Plaza North &amp; Crescent St</td>\n",
       "      <td>6429.01</td>\n",
       "      <td>40.753260</td>\n",
       "      <td>-73.943358</td>\n",
       "      <td>...</td>\n",
       "      <td>0.0</td>\n",
       "      <td>1.8</td>\n",
       "      <td>3.3</td>\n",
       "      <td>-0.5</td>\n",
       "      <td>310</td>\n",
       "      <td>300</td>\n",
       "      <td>14.8</td>\n",
       "      <td>19.2</td>\n",
       "      <td>NaN</td>\n",
       "      <td>NaN</td>\n",
       "    </tr>\n",
       "    <tr>\n",
       "      <th>14</th>\n",
       "      <td>0742A124ECDD7F93</td>\n",
       "      <td>electric_bike</td>\n",
       "      <td>2022-01-18 12:47:47</td>\n",
       "      <td>2022-01-18 12:53:53</td>\n",
       "      <td>Anthony Ave &amp; E 175 St</td>\n",
       "      <td>8319.01</td>\n",
       "      <td>Fulton Ave &amp; St. Paul's Pl</td>\n",
       "      <td>8152.03</td>\n",
       "      <td>40.846465</td>\n",
       "      <td>-73.903869</td>\n",
       "      <td>...</td>\n",
       "      <td>0.0</td>\n",
       "      <td>1.8</td>\n",
       "      <td>3.3</td>\n",
       "      <td>-0.5</td>\n",
       "      <td>310</td>\n",
       "      <td>300</td>\n",
       "      <td>14.8</td>\n",
       "      <td>19.2</td>\n",
       "      <td>NaN</td>\n",
       "      <td>NaN</td>\n",
       "    </tr>\n",
       "    <tr>\n",
       "      <th>15</th>\n",
       "      <td>8F4768A6F2F99A02</td>\n",
       "      <td>electric_bike</td>\n",
       "      <td>2022-01-18 15:33:07</td>\n",
       "      <td>2022-01-18 15:38:18</td>\n",
       "      <td>Murray St &amp; West St</td>\n",
       "      <td>5329.06</td>\n",
       "      <td>John St &amp; William St</td>\n",
       "      <td>5065.04</td>\n",
       "      <td>40.714979</td>\n",
       "      <td>-74.013012</td>\n",
       "      <td>...</td>\n",
       "      <td>0.0</td>\n",
       "      <td>1.8</td>\n",
       "      <td>3.3</td>\n",
       "      <td>-0.5</td>\n",
       "      <td>310</td>\n",
       "      <td>300</td>\n",
       "      <td>14.8</td>\n",
       "      <td>19.2</td>\n",
       "      <td>NaN</td>\n",
       "      <td>NaN</td>\n",
       "    </tr>\n",
       "    <tr>\n",
       "      <th>16</th>\n",
       "      <td>9748435F0C573AAF</td>\n",
       "      <td>electric_bike</td>\n",
       "      <td>2022-01-18 20:00:58</td>\n",
       "      <td>2022-01-18 20:13:07</td>\n",
       "      <td>E 58 St &amp; 3 Ave</td>\n",
       "      <td>6762.02</td>\n",
       "      <td>W 44 St &amp; 11 Ave</td>\n",
       "      <td>6756.05</td>\n",
       "      <td>40.760958</td>\n",
       "      <td>-73.967245</td>\n",
       "      <td>...</td>\n",
       "      <td>0.0</td>\n",
       "      <td>1.8</td>\n",
       "      <td>3.3</td>\n",
       "      <td>-0.5</td>\n",
       "      <td>310</td>\n",
       "      <td>300</td>\n",
       "      <td>14.8</td>\n",
       "      <td>19.2</td>\n",
       "      <td>NaN</td>\n",
       "      <td>NaN</td>\n",
       "    </tr>\n",
       "    <tr>\n",
       "      <th>17</th>\n",
       "      <td>898F45CDDE256C38</td>\n",
       "      <td>classic_bike</td>\n",
       "      <td>2022-01-18 12:42:52</td>\n",
       "      <td>2022-01-18 12:49:25</td>\n",
       "      <td>W 59 St &amp; 10 Ave</td>\n",
       "      <td>7023.04</td>\n",
       "      <td>W 44 St &amp; 11 Ave</td>\n",
       "      <td>6756.05</td>\n",
       "      <td>40.770513</td>\n",
       "      <td>-73.988038</td>\n",
       "      <td>...</td>\n",
       "      <td>0.0</td>\n",
       "      <td>1.8</td>\n",
       "      <td>3.3</td>\n",
       "      <td>-0.5</td>\n",
       "      <td>310</td>\n",
       "      <td>300</td>\n",
       "      <td>14.8</td>\n",
       "      <td>19.2</td>\n",
       "      <td>NaN</td>\n",
       "      <td>NaN</td>\n",
       "    </tr>\n",
       "    <tr>\n",
       "      <th>18</th>\n",
       "      <td>42D47DF74E71676D</td>\n",
       "      <td>classic_bike</td>\n",
       "      <td>2022-01-18 16:16:31</td>\n",
       "      <td>2022-01-18 16:37:13</td>\n",
       "      <td>Vernon Blvd &amp; 30 Rd</td>\n",
       "      <td>7003.03</td>\n",
       "      <td>Bulova Ave &amp; Brooklyn Queens Expressway W</td>\n",
       "      <td>6766.03</td>\n",
       "      <td>40.770845</td>\n",
       "      <td>-73.934171</td>\n",
       "      <td>...</td>\n",
       "      <td>0.0</td>\n",
       "      <td>1.8</td>\n",
       "      <td>3.3</td>\n",
       "      <td>-0.5</td>\n",
       "      <td>310</td>\n",
       "      <td>300</td>\n",
       "      <td>14.8</td>\n",
       "      <td>19.2</td>\n",
       "      <td>NaN</td>\n",
       "      <td>NaN</td>\n",
       "    </tr>\n",
       "    <tr>\n",
       "      <th>19</th>\n",
       "      <td>7DECFDEEE808915B</td>\n",
       "      <td>classic_bike</td>\n",
       "      <td>2022-01-18 14:04:50</td>\n",
       "      <td>2022-01-18 14:08:30</td>\n",
       "      <td>Boerum Pl\\t&amp; Pacific St</td>\n",
       "      <td>4488.09</td>\n",
       "      <td>Bond St &amp; Bergen St</td>\n",
       "      <td>4404.10</td>\n",
       "      <td>40.688489</td>\n",
       "      <td>-73.991160</td>\n",
       "      <td>...</td>\n",
       "      <td>0.0</td>\n",
       "      <td>1.8</td>\n",
       "      <td>3.3</td>\n",
       "      <td>-0.5</td>\n",
       "      <td>310</td>\n",
       "      <td>300</td>\n",
       "      <td>14.8</td>\n",
       "      <td>19.2</td>\n",
       "      <td>NaN</td>\n",
       "      <td>NaN</td>\n",
       "    </tr>\n",
       "  </tbody>\n",
       "</table>\n",
       "<p>20 rows × 33 columns</p>\n",
       "</div>"
      ],
      "text/plain": [
       "             ride_id  rideable_type           started_at             ended_at  \\\n",
       "0   55262E4365A955A2   classic_bike  2022-01-18 08:23:52  2022-01-18 08:28:18   \n",
       "1   75EAB4C9619AB463   classic_bike  2022-01-18 16:45:52  2022-01-18 16:56:03   \n",
       "2   582C4FB96E010416   classic_bike  2022-01-18 08:45:24  2022-01-18 08:54:11   \n",
       "3   4FAA081EE6A9B319  electric_bike  2022-01-18 18:12:01  2022-01-18 18:17:15   \n",
       "4   AA6CE6206341D731  electric_bike  2022-01-18 13:14:24  2022-01-18 13:25:50   \n",
       "5   0B215E18DCAB5559  electric_bike  2022-01-18 10:48:27  2022-01-18 10:53:31   \n",
       "6   C3C9A7074153C0FE   classic_bike  2022-01-18 16:54:44  2022-01-18 16:57:08   \n",
       "7   A09D2C3867EA5E5D  electric_bike  2022-01-18 08:40:28  2022-01-18 08:57:04   \n",
       "8   A67290B3D88CFD27   classic_bike  2022-01-18 08:06:28  2022-01-18 08:10:48   \n",
       "9   77FDAF01894C026F   classic_bike  2022-01-18 21:26:51  2022-01-18 21:28:50   \n",
       "10  D88D7C394FD93D69   classic_bike  2022-01-18 14:06:14  2022-01-18 14:12:44   \n",
       "11  3479868240791A4C  electric_bike  2022-01-18 06:37:50  2022-01-18 06:50:39   \n",
       "12  25320E10EB263516   classic_bike  2022-01-18 09:46:45  2022-01-18 09:48:46   \n",
       "13  6DC420CD823EE38B   classic_bike  2022-01-18 14:42:36  2022-01-18 14:44:37   \n",
       "14  0742A124ECDD7F93  electric_bike  2022-01-18 12:47:47  2022-01-18 12:53:53   \n",
       "15  8F4768A6F2F99A02  electric_bike  2022-01-18 15:33:07  2022-01-18 15:38:18   \n",
       "16  9748435F0C573AAF  electric_bike  2022-01-18 20:00:58  2022-01-18 20:13:07   \n",
       "17  898F45CDDE256C38   classic_bike  2022-01-18 12:42:52  2022-01-18 12:49:25   \n",
       "18  42D47DF74E71676D   classic_bike  2022-01-18 16:16:31  2022-01-18 16:37:13   \n",
       "19  7DECFDEEE808915B   classic_bike  2022-01-18 14:04:50  2022-01-18 14:08:30   \n",
       "\n",
       "              start_station_name start_station_id  \\\n",
       "0        Boerum Pl\\t& Pacific St          4488.09   \n",
       "1                W 49 St & 8 Ave          6747.06   \n",
       "2                E 88 St & 1 Ave          7235.13   \n",
       "3   Clermont Ave & Lafayette Ave          4461.01   \n",
       "4            Court St & State St          4488.08   \n",
       "5           Crescent St & 35 Ave          6688.01   \n",
       "6                 31 Ave & 30 St          6857.09   \n",
       "7               W 22 St & 10 Ave          6306.06   \n",
       "8                 34 St & 35 Ave          6605.08   \n",
       "9                Smith St & 9 St          4077.04   \n",
       "10               Smith St & 9 St          4077.04   \n",
       "11          21 Ave & Crescent St          7284.01   \n",
       "12              W 47 St & 10 Ave          6824.07   \n",
       "13    21 St & Queens Plaza North          6471.02   \n",
       "14        Anthony Ave & E 175 St          8319.01   \n",
       "15           Murray St & West St          5329.06   \n",
       "16               E 58 St & 3 Ave          6762.02   \n",
       "17              W 59 St & 10 Ave          7023.04   \n",
       "18           Vernon Blvd & 30 Rd          7003.03   \n",
       "19       Boerum Pl\\t& Pacific St          4488.09   \n",
       "\n",
       "                             end_station_name end_station_id  start_lat  \\\n",
       "0                   Clinton St & Joralemon St        4605.04  40.688489   \n",
       "1                     Amsterdam Ave & W 73 St        7260.09  40.762272   \n",
       "2                             2 Ave & E 72 St        6925.09  40.778301   \n",
       "3                     Emerson Pl & Myrtle Ave        4683.02  40.687645   \n",
       "4                     Emerson Pl & Myrtle Ave        4683.02  40.690238   \n",
       "5            Queens Plaza North & Crescent St        6429.01  40.759628   \n",
       "6                            31 St & Broadway        6789.04  40.764700   \n",
       "7                        John St & William St        5065.04  40.746920   \n",
       "8                            31 St & Broadway        6789.04  40.756933   \n",
       "9                               10 St & 2 Ave        3922.02  40.674696   \n",
       "10                              10 St & 5 Ave        3842.08  40.674696   \n",
       "11           Queens Plaza North & Crescent St        6429.01  40.780478   \n",
       "12                           W 44 St & 11 Ave        6756.05  40.762699   \n",
       "13           Queens Plaza North & Crescent St        6429.01  40.753260   \n",
       "14                 Fulton Ave & St. Paul's Pl        8152.03  40.846465   \n",
       "15                       John St & William St        5065.04  40.714979   \n",
       "16                           W 44 St & 11 Ave        6756.05  40.760958   \n",
       "17                           W 44 St & 11 Ave        6756.05  40.770513   \n",
       "18  Bulova Ave & Brooklyn Queens Expressway W        6766.03  40.770845   \n",
       "19                        Bond St & Bergen St        4404.10  40.688489   \n",
       "\n",
       "    start_lng  ...  SNWD  TAVG TMAX TMIN WDF2 WDF5  WSF2  WSF5  WT01 WT08  \n",
       "0  -73.991160  ...   0.0   1.8  3.3 -0.5  310  300  14.8  19.2   NaN  NaN  \n",
       "1  -73.987882  ...   0.0   1.8  3.3 -0.5  310  300  14.8  19.2   NaN  NaN  \n",
       "2  -73.948813  ...   0.0   1.8  3.3 -0.5  310  300  14.8  19.2   NaN  NaN  \n",
       "3  -73.969689  ...   0.0   1.8  3.3 -0.5  310  300  14.8  19.2   NaN  NaN  \n",
       "4  -73.992031  ...   0.0   1.8  3.3 -0.5  310  300  14.8  19.2   NaN  NaN  \n",
       "5  -73.932146  ...   0.0   1.8  3.3 -0.5  310  300  14.8  19.2   NaN  NaN  \n",
       "6  -73.924031  ...   0.0   1.8  3.3 -0.5  310  300  14.8  19.2   NaN  NaN  \n",
       "7  -74.004519  ...   0.0   1.8  3.3 -0.5  310  300  14.8  19.2   NaN  NaN  \n",
       "8  -73.926223  ...   0.0   1.8  3.3 -0.5  310  300  14.8  19.2   NaN  NaN  \n",
       "9  -73.997858  ...   0.0   1.8  3.3 -0.5  310  300  14.8  19.2   NaN  NaN  \n",
       "10 -73.997858  ...   0.0   1.8  3.3 -0.5  310  300  14.8  19.2   NaN  NaN  \n",
       "11 -73.912212  ...   0.0   1.8  3.3 -0.5  310  300  14.8  19.2   NaN  NaN  \n",
       "12 -73.993012  ...   0.0   1.8  3.3 -0.5  310  300  14.8  19.2   NaN  NaN  \n",
       "13 -73.943358  ...   0.0   1.8  3.3 -0.5  310  300  14.8  19.2   NaN  NaN  \n",
       "14 -73.903869  ...   0.0   1.8  3.3 -0.5  310  300  14.8  19.2   NaN  NaN  \n",
       "15 -74.013012  ...   0.0   1.8  3.3 -0.5  310  300  14.8  19.2   NaN  NaN  \n",
       "16 -73.967245  ...   0.0   1.8  3.3 -0.5  310  300  14.8  19.2   NaN  NaN  \n",
       "17 -73.988038  ...   0.0   1.8  3.3 -0.5  310  300  14.8  19.2   NaN  NaN  \n",
       "18 -73.934171  ...   0.0   1.8  3.3 -0.5  310  300  14.8  19.2   NaN  NaN  \n",
       "19 -73.991160  ...   0.0   1.8  3.3 -0.5  310  300  14.8  19.2   NaN  NaN  \n",
       "\n",
       "[20 rows x 33 columns]"
      ]
     },
     "execution_count": 10,
     "metadata": {},
     "output_type": "execute_result"
    }
   ],
   "source": [
    "merged_df.head(20)"
   ]
  },
  {
   "cell_type": "code",
   "execution_count": 56,
   "id": "6978fbf3-4dfc-4cfd-9488-8ac631052949",
   "metadata": {},
   "outputs": [
    {
     "name": "stdout",
     "output_type": "stream",
     "text": [
      "['merged_data_01.csv', 'merged_data_02.csv', 'merged_data_03.csv', 'merged_data_04.csv', 'merged_data_05.csv', 'merged_data_06.csv', 'merged_data_07.csv', 'merged_data_08.csv', 'merged_data_09.csv', 'merged_data_10.csv', 'merged_data_11.csv', 'merged_data_12.csv']\n"
     ]
    }
   ],
   "source": [
    "main_directory = 'Merged'\n",
    "\n",
    "folder_list = os.listdir(main_directory)\n",
    "print(folder_list)"
   ]
  },
  {
   "cell_type": "code",
   "execution_count": null,
   "id": "ac5ebd90-2a72-49c4-b681-514614c37e1a",
   "metadata": {},
   "outputs": [
    {
     "name": "stdout",
     "output_type": "stream",
     "text": [
      "merged_data_01.csv\n"
     ]
    },
    {
     "name": "stderr",
     "output_type": "stream",
     "text": [
      "C:\\Users\\shahj\\AppData\\Local\\Temp\\ipykernel_13468\\2918252751.py:16: DtypeWarning: Columns (5,7) have mixed types. Specify dtype option on import or set low_memory=False.\n",
      "  df = pd.read_csv(csv_file_path)\n"
     ]
    },
    {
     "name": "stdout",
     "output_type": "stream",
     "text": [
      "merged_data_02.csv\n"
     ]
    },
    {
     "name": "stderr",
     "output_type": "stream",
     "text": [
      "C:\\Users\\shahj\\AppData\\Local\\Temp\\ipykernel_13468\\2918252751.py:16: DtypeWarning: Columns (5,7) have mixed types. Specify dtype option on import or set low_memory=False.\n",
      "  df = pd.read_csv(csv_file_path)\n"
     ]
    },
    {
     "name": "stdout",
     "output_type": "stream",
     "text": [
      "merged_data_03.csv\n"
     ]
    },
    {
     "name": "stderr",
     "output_type": "stream",
     "text": [
      "C:\\Users\\shahj\\AppData\\Local\\Temp\\ipykernel_13468\\2918252751.py:16: DtypeWarning: Columns (5,7) have mixed types. Specify dtype option on import or set low_memory=False.\n",
      "  df = pd.read_csv(csv_file_path)\n"
     ]
    },
    {
     "name": "stdout",
     "output_type": "stream",
     "text": [
      "merged_data_04.csv\n"
     ]
    },
    {
     "name": "stderr",
     "output_type": "stream",
     "text": [
      "C:\\Users\\shahj\\AppData\\Local\\Temp\\ipykernel_13468\\2918252751.py:16: DtypeWarning: Columns (5,7) have mixed types. Specify dtype option on import or set low_memory=False.\n",
      "  df = pd.read_csv(csv_file_path)\n"
     ]
    },
    {
     "name": "stdout",
     "output_type": "stream",
     "text": [
      "merged_data_05.csv\n"
     ]
    },
    {
     "name": "stderr",
     "output_type": "stream",
     "text": [
      "C:\\Users\\shahj\\AppData\\Local\\Temp\\ipykernel_13468\\2918252751.py:16: DtypeWarning: Columns (5,7) have mixed types. Specify dtype option on import or set low_memory=False.\n",
      "  df = pd.read_csv(csv_file_path)\n"
     ]
    },
    {
     "name": "stdout",
     "output_type": "stream",
     "text": [
      "merged_data_06.csv\n"
     ]
    },
    {
     "name": "stderr",
     "output_type": "stream",
     "text": [
      "C:\\Users\\shahj\\AppData\\Local\\Temp\\ipykernel_13468\\2918252751.py:16: DtypeWarning: Columns (5,7) have mixed types. Specify dtype option on import or set low_memory=False.\n",
      "  df = pd.read_csv(csv_file_path)\n"
     ]
    },
    {
     "name": "stdout",
     "output_type": "stream",
     "text": [
      "merged_data_07.csv\n"
     ]
    },
    {
     "name": "stderr",
     "output_type": "stream",
     "text": [
      "C:\\Users\\shahj\\AppData\\Local\\Temp\\ipykernel_13468\\2918252751.py:16: DtypeWarning: Columns (5,7) have mixed types. Specify dtype option on import or set low_memory=False.\n",
      "  df = pd.read_csv(csv_file_path)\n"
     ]
    },
    {
     "name": "stdout",
     "output_type": "stream",
     "text": [
      "merged_data_08.csv\n"
     ]
    }
   ],
   "source": [
    "dataframes = []\n",
    "\n",
    "# Walk through the main directory and its subdirectories to find CSV files.\n",
    "for root, dirs, files in os.walk(main_directory):\n",
    "    dirs[:] = [d for d in dirs if not d.lower().endswith('_macosx')]\n",
    "    \n",
    "    # Skip processing if the current directory path contains \"_macosx\"\n",
    "    if \"_macosx\" in root.lower():\n",
    "        continue\n",
    "        \n",
    "    for file in files:\n",
    "        print(file)\n",
    "        if file.endswith('.csv'):\n",
    "            csv_file_path = os.path.join(root, file)\n",
    "            df = pd.read_csv(csv_file_path)\n",
    "            dataframes.append(df)\n",
    "\n",
    "# Combine all the DataFrames into a single DataFrame\n",
    "combined_data = pd.concat(dataframes, ignore_index=True)\n",
    "\n",
    "combined_data.to_csv('Combined_DataWeatherFinal.csv', index=False)\n",
    "\n"
   ]
  },
  {
   "cell_type": "code",
   "execution_count": null,
   "id": "d9ba0a15-de40-4c82-92e4-48220a8fb3a0",
   "metadata": {},
   "outputs": [],
   "source": []
  }
 ],
 "metadata": {
  "kernelspec": {
   "display_name": "20th_century",
   "language": "python",
   "name": "20th_century"
  },
  "language_info": {
   "codemirror_mode": {
    "name": "ipython",
    "version": 3
   },
   "file_extension": ".py",
   "mimetype": "text/x-python",
   "name": "python",
   "nbconvert_exporter": "python",
   "pygments_lexer": "ipython3",
   "version": "3.10.11"
  }
 },
 "nbformat": 4,
 "nbformat_minor": 5
}
